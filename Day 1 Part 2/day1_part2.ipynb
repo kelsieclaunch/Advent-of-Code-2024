{
 "cells": [
  {
   "cell_type": "code",
   "execution_count": 1,
   "metadata": {},
   "outputs": [
    {
     "name": "stdout",
     "output_type": "stream",
     "text": [
      "19437052\n"
     ]
    }
   ],
   "source": [
    "import numpy as np\n",
    "import math\n",
    "\n",
    "file = open('input.txt', 'r') #open file to read\n",
    "lines = file.readlines()\n",
    "file.close()\n",
    "list1 = []\n",
    "list2 = []\n",
    "for line in lines:\n",
    "    x, y = line.split()\n",
    "    list1.append(int(x))\n",
    "    list2.append(int(y))\n",
    "\n",
    "list1.sort()\n",
    "list2.sort()\n",
    "\n",
    "\n",
    "similarity_score = 0\n",
    "count = 0\n",
    "\n",
    "for x in list1:\n",
    "    for y in list2:\n",
    "        if(x == y):\n",
    "            count += 1\n",
    "    similarity_score += (x * count)\n",
    "    count = 0\n",
    "\n",
    "print(similarity_score)"
   ]
  }
 ],
 "metadata": {
  "kernelspec": {
   "display_name": "Python 3",
   "language": "python",
   "name": "python3"
  },
  "language_info": {
   "codemirror_mode": {
    "name": "ipython",
    "version": 3
   },
   "file_extension": ".py",
   "mimetype": "text/x-python",
   "name": "python",
   "nbconvert_exporter": "python",
   "pygments_lexer": "ipython3",
   "version": "3.11.3"
  }
 },
 "nbformat": 4,
 "nbformat_minor": 2
}
