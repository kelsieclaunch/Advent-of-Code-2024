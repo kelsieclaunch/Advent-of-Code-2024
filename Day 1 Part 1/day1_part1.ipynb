{
 "cells": [
  {
   "cell_type": "code",
   "execution_count": 15,
   "metadata": {},
   "outputs": [
    {
     "name": "stdout",
     "output_type": "stream",
     "text": [
      "1882714\n"
     ]
    }
   ],
   "source": [
    "import numpy as np\n",
    "import math\n",
    "\n",
    "file = open('input.txt', 'r') #open file to read\n",
    "lines = file.readlines()\n",
    "file.close()\n",
    "list1 = []\n",
    "list2 = []\n",
    "for line in lines:\n",
    "    x, y = line.split()\n",
    "    list1.append(int(x))\n",
    "    list2.append(int(y))\n",
    "\n",
    "list1.sort()\n",
    "list2.sort()\n",
    "\n",
    "\n",
    "difference = 0\n",
    "\n",
    "for i in range(len(list1)):\n",
    "    if(list1[i] > list2[i]):\n",
    "        difference += (list1[i] - list2[i])\n",
    "    elif(list2[i] > list1[i]):\n",
    "        difference += (list2[i] - list1[i])\n",
    "\n",
    "print(difference)\n",
    "\n"
   ]
  },
  {
   "cell_type": "code",
   "execution_count": null,
   "metadata": {},
   "outputs": [],
   "source": []
  }
 ],
 "metadata": {
  "kernelspec": {
   "display_name": "Python 3",
   "language": "python",
   "name": "python3"
  },
  "language_info": {
   "codemirror_mode": {
    "name": "ipython",
    "version": 3
   },
   "file_extension": ".py",
   "mimetype": "text/x-python",
   "name": "python",
   "nbconvert_exporter": "python",
   "pygments_lexer": "ipython3",
   "version": "3.11.3"
  }
 },
 "nbformat": 4,
 "nbformat_minor": 2
}
